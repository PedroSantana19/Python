{
 "cells": [
  {
   "cell_type": "code",
   "execution_count": 1,
   "metadata": {},
   "outputs": [],
   "source": [
    "import pandas as pd\n",
    "import numpy as np\n",
    "import seaborn as sns\n",
    "import matplotlib.pyplot as plt\n",
    "%matplotlib inline"
   ]
  },
  {
   "cell_type": "code",
   "execution_count": 2,
   "metadata": {},
   "outputs": [
    {
     "name": "stderr",
     "output_type": "stream",
     "text": [
      "/home/python/anaconda3/lib/python3.7/site-packages/IPython/core/interactiveshell.py:3058: DtypeWarning: Columns (23,35) have mixed types. Specify dtype option on import or set low_memory=False.\n",
      "  interactivity=interactivity, compiler=compiler, result=result)\n"
     ]
    }
   ],
   "source": [
    "df = pd.read_csv('CompleteDataset.csv')"
   ]
  },
  {
   "cell_type": "code",
   "execution_count": 3,
   "metadata": {},
   "outputs": [
    {
     "data": {
      "text/html": [
       "<div>\n",
       "<style scoped>\n",
       "    .dataframe tbody tr th:only-of-type {\n",
       "        vertical-align: middle;\n",
       "    }\n",
       "\n",
       "    .dataframe tbody tr th {\n",
       "        vertical-align: top;\n",
       "    }\n",
       "\n",
       "    .dataframe thead th {\n",
       "        text-align: right;\n",
       "    }\n",
       "</style>\n",
       "<table border=\"1\" class=\"dataframe\">\n",
       "  <thead>\n",
       "    <tr style=\"text-align: right;\">\n",
       "      <th></th>\n",
       "      <th>Unnamed: 0</th>\n",
       "      <th>Name</th>\n",
       "      <th>Age</th>\n",
       "      <th>Photo</th>\n",
       "      <th>Nationality</th>\n",
       "      <th>Flag</th>\n",
       "      <th>Overall</th>\n",
       "      <th>Potential</th>\n",
       "      <th>Club</th>\n",
       "      <th>Club Logo</th>\n",
       "      <th>...</th>\n",
       "      <th>RB</th>\n",
       "      <th>RCB</th>\n",
       "      <th>RCM</th>\n",
       "      <th>RDM</th>\n",
       "      <th>RF</th>\n",
       "      <th>RM</th>\n",
       "      <th>RS</th>\n",
       "      <th>RW</th>\n",
       "      <th>RWB</th>\n",
       "      <th>ST</th>\n",
       "    </tr>\n",
       "  </thead>\n",
       "  <tbody>\n",
       "    <tr>\n",
       "      <th>0</th>\n",
       "      <td>0</td>\n",
       "      <td>Cristiano Ronaldo</td>\n",
       "      <td>32</td>\n",
       "      <td>https://cdn.sofifa.org/48/18/players/20801.png</td>\n",
       "      <td>Portugal</td>\n",
       "      <td>https://cdn.sofifa.org/flags/38.png</td>\n",
       "      <td>94</td>\n",
       "      <td>94</td>\n",
       "      <td>Real Madrid CF</td>\n",
       "      <td>https://cdn.sofifa.org/24/18/teams/243.png</td>\n",
       "      <td>...</td>\n",
       "      <td>61.0</td>\n",
       "      <td>53.0</td>\n",
       "      <td>82.0</td>\n",
       "      <td>62.0</td>\n",
       "      <td>91.0</td>\n",
       "      <td>89.0</td>\n",
       "      <td>92.0</td>\n",
       "      <td>91.0</td>\n",
       "      <td>66.0</td>\n",
       "      <td>92.0</td>\n",
       "    </tr>\n",
       "    <tr>\n",
       "      <th>1</th>\n",
       "      <td>1</td>\n",
       "      <td>L. Messi</td>\n",
       "      <td>30</td>\n",
       "      <td>https://cdn.sofifa.org/48/18/players/158023.png</td>\n",
       "      <td>Argentina</td>\n",
       "      <td>https://cdn.sofifa.org/flags/52.png</td>\n",
       "      <td>93</td>\n",
       "      <td>93</td>\n",
       "      <td>FC Barcelona</td>\n",
       "      <td>https://cdn.sofifa.org/24/18/teams/241.png</td>\n",
       "      <td>...</td>\n",
       "      <td>57.0</td>\n",
       "      <td>45.0</td>\n",
       "      <td>84.0</td>\n",
       "      <td>59.0</td>\n",
       "      <td>92.0</td>\n",
       "      <td>90.0</td>\n",
       "      <td>88.0</td>\n",
       "      <td>91.0</td>\n",
       "      <td>62.0</td>\n",
       "      <td>88.0</td>\n",
       "    </tr>\n",
       "    <tr>\n",
       "      <th>2</th>\n",
       "      <td>2</td>\n",
       "      <td>Neymar</td>\n",
       "      <td>25</td>\n",
       "      <td>https://cdn.sofifa.org/48/18/players/190871.png</td>\n",
       "      <td>Brazil</td>\n",
       "      <td>https://cdn.sofifa.org/flags/54.png</td>\n",
       "      <td>92</td>\n",
       "      <td>94</td>\n",
       "      <td>Paris Saint-Germain</td>\n",
       "      <td>https://cdn.sofifa.org/24/18/teams/73.png</td>\n",
       "      <td>...</td>\n",
       "      <td>59.0</td>\n",
       "      <td>46.0</td>\n",
       "      <td>79.0</td>\n",
       "      <td>59.0</td>\n",
       "      <td>88.0</td>\n",
       "      <td>87.0</td>\n",
       "      <td>84.0</td>\n",
       "      <td>89.0</td>\n",
       "      <td>64.0</td>\n",
       "      <td>84.0</td>\n",
       "    </tr>\n",
       "    <tr>\n",
       "      <th>3</th>\n",
       "      <td>3</td>\n",
       "      <td>L. Suárez</td>\n",
       "      <td>30</td>\n",
       "      <td>https://cdn.sofifa.org/48/18/players/176580.png</td>\n",
       "      <td>Uruguay</td>\n",
       "      <td>https://cdn.sofifa.org/flags/60.png</td>\n",
       "      <td>92</td>\n",
       "      <td>92</td>\n",
       "      <td>FC Barcelona</td>\n",
       "      <td>https://cdn.sofifa.org/24/18/teams/241.png</td>\n",
       "      <td>...</td>\n",
       "      <td>64.0</td>\n",
       "      <td>58.0</td>\n",
       "      <td>80.0</td>\n",
       "      <td>65.0</td>\n",
       "      <td>88.0</td>\n",
       "      <td>85.0</td>\n",
       "      <td>88.0</td>\n",
       "      <td>87.0</td>\n",
       "      <td>68.0</td>\n",
       "      <td>88.0</td>\n",
       "    </tr>\n",
       "    <tr>\n",
       "      <th>4</th>\n",
       "      <td>4</td>\n",
       "      <td>M. Neuer</td>\n",
       "      <td>31</td>\n",
       "      <td>https://cdn.sofifa.org/48/18/players/167495.png</td>\n",
       "      <td>Germany</td>\n",
       "      <td>https://cdn.sofifa.org/flags/21.png</td>\n",
       "      <td>92</td>\n",
       "      <td>92</td>\n",
       "      <td>FC Bayern Munich</td>\n",
       "      <td>https://cdn.sofifa.org/24/18/teams/21.png</td>\n",
       "      <td>...</td>\n",
       "      <td>NaN</td>\n",
       "      <td>NaN</td>\n",
       "      <td>NaN</td>\n",
       "      <td>NaN</td>\n",
       "      <td>NaN</td>\n",
       "      <td>NaN</td>\n",
       "      <td>NaN</td>\n",
       "      <td>NaN</td>\n",
       "      <td>NaN</td>\n",
       "      <td>NaN</td>\n",
       "    </tr>\n",
       "  </tbody>\n",
       "</table>\n",
       "<p>5 rows × 75 columns</p>\n",
       "</div>"
      ],
      "text/plain": [
       "   Unnamed: 0               Name  Age  \\\n",
       "0           0  Cristiano Ronaldo   32   \n",
       "1           1           L. Messi   30   \n",
       "2           2             Neymar   25   \n",
       "3           3          L. Suárez   30   \n",
       "4           4           M. Neuer   31   \n",
       "\n",
       "                                             Photo Nationality  \\\n",
       "0   https://cdn.sofifa.org/48/18/players/20801.png    Portugal   \n",
       "1  https://cdn.sofifa.org/48/18/players/158023.png   Argentina   \n",
       "2  https://cdn.sofifa.org/48/18/players/190871.png      Brazil   \n",
       "3  https://cdn.sofifa.org/48/18/players/176580.png     Uruguay   \n",
       "4  https://cdn.sofifa.org/48/18/players/167495.png     Germany   \n",
       "\n",
       "                                  Flag  Overall  Potential  \\\n",
       "0  https://cdn.sofifa.org/flags/38.png       94         94   \n",
       "1  https://cdn.sofifa.org/flags/52.png       93         93   \n",
       "2  https://cdn.sofifa.org/flags/54.png       92         94   \n",
       "3  https://cdn.sofifa.org/flags/60.png       92         92   \n",
       "4  https://cdn.sofifa.org/flags/21.png       92         92   \n",
       "\n",
       "                  Club                                   Club Logo  ...    RB  \\\n",
       "0       Real Madrid CF  https://cdn.sofifa.org/24/18/teams/243.png  ...  61.0   \n",
       "1         FC Barcelona  https://cdn.sofifa.org/24/18/teams/241.png  ...  57.0   \n",
       "2  Paris Saint-Germain   https://cdn.sofifa.org/24/18/teams/73.png  ...  59.0   \n",
       "3         FC Barcelona  https://cdn.sofifa.org/24/18/teams/241.png  ...  64.0   \n",
       "4     FC Bayern Munich   https://cdn.sofifa.org/24/18/teams/21.png  ...   NaN   \n",
       "\n",
       "    RCB   RCM   RDM    RF    RM    RS    RW   RWB    ST  \n",
       "0  53.0  82.0  62.0  91.0  89.0  92.0  91.0  66.0  92.0  \n",
       "1  45.0  84.0  59.0  92.0  90.0  88.0  91.0  62.0  88.0  \n",
       "2  46.0  79.0  59.0  88.0  87.0  84.0  89.0  64.0  84.0  \n",
       "3  58.0  80.0  65.0  88.0  85.0  88.0  87.0  68.0  88.0  \n",
       "4   NaN   NaN   NaN   NaN   NaN   NaN   NaN   NaN   NaN  \n",
       "\n",
       "[5 rows x 75 columns]"
      ]
     },
     "execution_count": 3,
     "metadata": {},
     "output_type": "execute_result"
    }
   ],
   "source": [
    "df.head()"
   ]
  },
  {
   "cell_type": "code",
   "execution_count": 4,
   "metadata": {},
   "outputs": [],
   "source": [
    "barcelona = df.loc[df['Club']=='FC Barcelona']"
   ]
  },
  {
   "cell_type": "code",
   "execution_count": 5,
   "metadata": {},
   "outputs": [],
   "source": [
    "bayern = df.loc[df['Club']=='FC Bayern Munich']"
   ]
  },
  {
   "cell_type": "code",
   "execution_count": 6,
   "metadata": {},
   "outputs": [
    {
     "data": {
      "text/plain": [
       "<seaborn.axisgrid.FacetGrid at 0x7fc6f964f790>"
      ]
     },
     "execution_count": 6,
     "metadata": {},
     "output_type": "execute_result"
    },
    {
     "data": {
      "image/png": "[encoded data removed]",
      "text/plain": [
       "<Figure size 360x360 with 1 Axes>"
      ]
     },
     "metadata": {
      "needs_background": "light"
     },
     "output_type": "display_data"
    }
   ],
   "source": [
    "sns.relplot(x= 'Potential', y='Name', data=barcelona)"
   ]
  },
  {
   "cell_type": "code",
   "execution_count": 7,
   "metadata": {},
   "outputs": [
    {
     "data": {
      "text/plain": [
       "<seaborn.axisgrid.FacetGrid at 0x7fc6f817e410>"
      ]
     },
     "execution_count": 7,
     "metadata": {},
     "output_type": "execute_result"
    },
    {
     "data": {
      "image/png": "[encoded data removed]",
      "text/plain": [
       "<Figure size 360x360 with 1 Axes>"
      ]
     },
     "metadata": {
      "needs_background": "light"
     },
     "output_type": "display_data"
    }
   ],
   "source": [
    "sns.relplot(x= 'Potential', y='Name', data=bayern)"
   ]
  },
  {
   "cell_type": "code",
   "execution_count": null,
   "metadata": {},
   "outputs": [],
   "source": [
    "len(df)"
   ]
  },
  {
   "cell_type": "code",
   "execution_count": null,
   "metadata": {},
   "outputs": [],
   "source": []
  }
 ],
 "metadata": {
  "kernelspec": {
   "display_name": "Python 3",
   "language": "python",
   "name": "python3"
  },
  "language_info": {
   "codemirror_mode": {
    "name": "ipython",
    "version": 3
   },
   "file_extension": ".py",
   "mimetype": "text/x-python",
   "name": "python",
   "nbconvert_exporter": "python",
   "pygments_lexer": "ipython3",
   "version": "3.7.4"
  }
 },
 "nbformat": 4,
 "nbformat_minor": 2
}
