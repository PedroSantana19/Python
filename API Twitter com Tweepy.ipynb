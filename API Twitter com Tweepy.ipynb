{
 "cells": [
  {
   "cell_type": "code",
   "execution_count": 6,
   "metadata": {},
   "outputs": [],
   "source": [
    "import numpy as np\n",
    "import requests\n",
    "import pandas as pd\n",
    "import tweepy"
   ]
  },
  {
   "cell_type": "code",
   "execution_count": 12,
   "metadata": {},
   "outputs": [],
   "source": [
    "chave_consumidor = \"mnYVCvimESigLpZ5T3PV6httv\"\n",
    "segredo_consumidor = \"SABhqyRPADcrtoxEZKa35Ps6pvhH6fIOOug1LlwHjd2aFgzkup\"\n",
    "token_acesso = '2203132888-eEujNzRDrLa4rovQvVr3Z3JGBLY6KyPGYeVqLd1'\n",
    "token_acesso_segredo = 'oGqInqXRxXeG29FZWLCxwZrRKWxdX39qelW5Pqd1u9TcC'"
   ]
  },
  {
   "cell_type": "code",
   "execution_count": 8,
   "metadata": {},
   "outputs": [],
   "source": [
    "autenticacao = tweepy.OAuthHandler(chave_consumidor, segredo_consumidor)"
   ]
  },
  {
   "cell_type": "code",
   "execution_count": 14,
   "metadata": {},
   "outputs": [],
   "source": [
    "autenticacao.set_access_token(token_acesso, token_acesso_segredo)"
   ]
  },
  {
   "cell_type": "code",
   "execution_count": 15,
   "metadata": {},
   "outputs": [],
   "source": [
    "twitter = tweepy.API(autenticacao)"
   ]
  },
  {
   "cell_type": "code",
   "execution_count": 20,
   "metadata": {},
   "outputs": [
    {
     "name": "stdout",
     "output_type": "stream",
     "text": [
      "Usuário: Samuell60812603 - Tweet: 🔔 LULA ACABA DE SER EXPULS0 DO N0RDESTE - GLEISI ENTRA EM DESESPER0 E O ... https://t.co/s4JHZYPB8E via @YouTube\n",
      "Usuário: bmeisterr - Tweet: Greve geral, Lula livre e cachaça llkkkkkkk https://t.co/KGNdPyw1oV\n",
      "Usuário: Liliansantos54 - Tweet: RT @elcoya1977: Duele mucho ver a CHILE bajo las llamas!!!\n",
      "\n",
      "Pero mucho más duele, el silencio COBARDE de los MEDIOS que saben que detrás de…\n",
      "Usuário: mouravictor94 - Tweet: RT @RenanSantosMBL: Todos os passos dados pelas forças políticas estabelecidas caminham para o caos, não para a pacificação. Lula e sua \"ch…\n",
      "Usuário: Joseart34373557 - Tweet: RT @isentoes2: O condenado Lula disse que não pode mais ver jovem de 14 e 15 anos ser morto pela polícia por ter roubado um celular. Ele es…\n",
      "Usuário: scheilari - Tweet: RT @Haddad_Fernando: Uma das maiores conquistas do governo Lula. Feliz por ver esse sonho, capitaneado pelo querido @tarsogenro, transforma…\n",
      "Usuário: EsquerdistaSP - Tweet: RT @MarcioR_Silva: Lula foi consultado por gente do PT se gostaria de se deslocar até Brasília e acompanhar de perto a ocupação da embaixad…\n",
      "Usuário: TurraAntonio - Tweet: RT @cartacapital: “O que nós queremos na verdade, é que essa gente saiba que esse país é nosso. Nós só iremos salvar esse país se tivermos…\n",
      "Usuário: jeanmarra - Tweet: PERO EL NARCORATERO GENERAL LA RETOMÓ CON LOS CUBANOS Y OARTIDIARIOS DE LULA LOS SACÓ A GOLPES Y SE ATRINCHERARON E… https://t.co/mKNpCPhsEo\n",
      "Usuário: wavesgi - Tweet: RT @daniasssis: lula livre camila pitanga bissexual e carlos bolsonaro sem twitter em menos de uma semana putz agora a serotonina VEM\n",
      "Usuário: elviejomiguelc - Tweet: RT @maduradascom: ¡FILOSO DARDO! Bolsonaro tras liberación de Lula da Silva: No den munición al canalla, que momentáneamente está libre #13…\n",
      "Usuário: vastiosa - Tweet: RT @augustosnunes: Para limpar a ficha de Lula, Gilmar Mendes e seus comparsas agora tramam a anulação do processo sobre o triplex do Guaru…\n",
      "Usuário: gayLulista - Tweet: RT @ZEFALILITH2: @minc_rj @zehdeabreu enquanto os eleitores do Bolsonaro comentam a saída do Lula e decisão do STF informo q o cartão d cré…\n",
      "Usuário: concepcion1518 - Tweet: RT @NicolasMaduro: Hace 13 años, fue inaugurado por los gigantes Lula da Silva y el Cmdte. Chávez el Puente Orinoquia. Una de las obras más…\n",
      "Usuário: CHEFGABRIEL_ - Tweet: @_jujuqueiroz Cachaça 👍🏼\n",
      "Lula Livre ✔️\n",
      "Beijo triplo 😳\n"
     ]
    }
   ],
   "source": [
    "resultados = twitter.search(q='Lula')\n",
    "for tweet in resultados:\n",
    "    print(f'Usuário: {tweet.user.screen_name} - Tweet: {tweet.text}')"
   ]
  },
  {
   "cell_type": "code",
   "execution_count": null,
   "metadata": {},
   "outputs": [],
   "source": []
  }
 ],
 "metadata": {
  "kernelspec": {
   "display_name": "Python 3",
   "language": "python",
   "name": "python3"
  },
  "language_info": {
   "codemirror_mode": {
    "name": "ipython",
    "version": 3
   },
   "file_extension": ".py",
   "mimetype": "text/x-python",
   "name": "python",
   "nbconvert_exporter": "python",
   "pygments_lexer": "ipython3",
   "version": "3.7.4"
  }
 },
 "nbformat": 4,
 "nbformat_minor": 2
}
